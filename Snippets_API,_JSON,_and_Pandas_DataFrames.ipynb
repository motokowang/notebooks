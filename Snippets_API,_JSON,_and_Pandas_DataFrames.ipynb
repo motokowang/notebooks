{
  "nbformat": 4,
  "nbformat_minor": 0,
  "metadata": {
    "colab": {
      "name": "Snippets: API, JSON, and Pandas DataFrames.ipynb",
      "provenance": [],
      "authorship_tag": "ABX9TyN0Vu7p+M8OuLBkwTwpsgpv",
      "include_colab_link": true
    },
    "kernelspec": {
      "name": "python3",
      "display_name": "Python 3"
    },
    "language_info": {
      "name": "python"
    }
  },
  "cells": [
    {
      "cell_type": "markdown",
      "metadata": {
        "id": "view-in-github",
        "colab_type": "text"
      },
      "source": [
        "<a href=\"https://colab.research.google.com/github/motokowang/notebooks/blob/main/Snippets_API%2C_JSON%2C_and_Pandas_DataFrames.ipynb\" target=\"_parent\"><img src=\"https://colab.research.google.com/assets/colab-badge.svg\" alt=\"Open In Colab\"/></a>"
      ]
    },
    {
      "cell_type": "markdown",
      "source": [
        "# Cheatsheet for API, JSON, and Pandas DataFrames"
      ],
      "metadata": {
        "id": "0B8FxqGH2h94"
      }
    },
    {
      "cell_type": "code",
      "execution_count": null,
      "metadata": {
        "id": "6mIHzMHM2UUb"
      },
      "outputs": [],
      "source": [
        "import requests\n",
        "import pandas as pd"
      ]
    },
    {
      "cell_type": "code",
      "source": [
        "api_url = 'https://api.genderize.io'\n",
        "name = 'jenny'\n",
        "url = api_url + '?name=' + name"
      ],
      "metadata": {
        "id": "rYL6IxUY2a-O"
      },
      "execution_count": null,
      "outputs": []
    },
    {
      "cell_type": "code",
      "source": [
        "response = requests.get(url)"
      ],
      "metadata": {
        "id": "Z8mwaJ2E5rnP"
      },
      "execution_count": null,
      "outputs": []
    },
    {
      "cell_type": "markdown",
      "source": [
        "## Status Code"
      ],
      "metadata": {
        "id": "EcaH7SjH5D8t"
      }
    },
    {
      "cell_type": "code",
      "source": [
        "response.status_code"
      ],
      "metadata": {
        "colab": {
          "base_uri": "https://localhost:8080/"
        },
        "id": "5twOuEIQ4pQF",
        "outputId": "d60340a6-424d-49f3-8ed3-e4142db56c03"
      },
      "execution_count": null,
      "outputs": [
        {
          "output_type": "execute_result",
          "data": {
            "text/plain": [
              "200"
            ]
          },
          "metadata": {},
          "execution_count": 103
        }
      ]
    },
    {
      "cell_type": "markdown",
      "source": [
        "## Json"
      ],
      "metadata": {
        "id": "nFs9GWf-5JkG"
      }
    },
    {
      "cell_type": "markdown",
      "source": [
        "The output of response is a dict():"
      ],
      "metadata": {
        "id": "oCd6J05b7UvK"
      }
    },
    {
      "cell_type": "code",
      "source": [
        "response.json()"
      ],
      "metadata": {
        "colab": {
          "base_uri": "https://localhost:8080/"
        },
        "id": "QPtyNjAe5HBD",
        "outputId": "3a6cbb99-7c14-42e7-8717-79115f736839"
      },
      "execution_count": null,
      "outputs": [
        {
          "output_type": "execute_result",
          "data": {
            "text/plain": [
              "{'count': 74278, 'gender': 'female', 'name': 'jenny', 'probability': 0.98}"
            ]
          },
          "metadata": {},
          "execution_count": 104
        }
      ]
    },
    {
      "cell_type": "code",
      "source": [
        "# Get the response of one item, treating it as a dict():\n",
        "response.json()['gender']"
      ],
      "metadata": {
        "colab": {
          "base_uri": "https://localhost:8080/",
          "height": 35
        },
        "id": "LJhqhRy65N0Q",
        "outputId": "d3a7ff6f-1f53-407a-ebf3-ae3ddd226ec5"
      },
      "execution_count": null,
      "outputs": [
        {
          "output_type": "execute_result",
          "data": {
            "text/plain": [
              "'female'"
            ],
            "application/vnd.google.colaboratory.intrinsic+json": {
              "type": "string"
            }
          },
          "metadata": {},
          "execution_count": 105
        }
      ]
    },
    {
      "cell_type": "code",
      "source": [
        "# Iterate thru, treating it as a dict():\n",
        "for k, v in response.json().items():\n",
        "    print(k, v)"
      ],
      "metadata": {
        "colab": {
          "base_uri": "https://localhost:8080/"
        },
        "id": "sDfSwwoO5VwU",
        "outputId": "2b184ed3-cfe2-4849-bfda-ddca06b83b1e"
      },
      "execution_count": null,
      "outputs": [
        {
          "output_type": "stream",
          "name": "stdout",
          "text": [
            "name jenny\n",
            "gender female\n",
            "probability 0.98\n",
            "count 74278\n"
          ]
        }
      ]
    },
    {
      "cell_type": "code",
      "source": [
        ""
      ],
      "metadata": {
        "id": "I1j-w6vV7o6K"
      },
      "execution_count": null,
      "outputs": []
    }
  ]
}