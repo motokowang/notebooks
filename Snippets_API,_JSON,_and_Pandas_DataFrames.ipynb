{
  "nbformat": 4,
  "nbformat_minor": 0,
  "metadata": {
    "colab": {
      "name": "Snippets: API, JSON, and Pandas DataFrames.ipynb",
      "provenance": [],
      "authorship_tag": "ABX9TyMwpWoeQHxHNOB28XlmYp5k",
      "include_colab_link": true
    },
    "kernelspec": {
      "name": "python3",
      "display_name": "Python 3"
    },
    "language_info": {
      "name": "python"
    }
  },
  "cells": [
    {
      "cell_type": "markdown",
      "metadata": {
        "id": "view-in-github",
        "colab_type": "text"
      },
      "source": [
        "<a href=\"https://colab.research.google.com/github/motokowang/notebooks/blob/main/Snippets_API%2C_JSON%2C_and_Pandas_DataFrames.ipynb\" target=\"_parent\"><img src=\"https://colab.research.google.com/assets/colab-badge.svg\" alt=\"Open In Colab\"/></a>"
      ]
    },
    {
      "cell_type": "markdown",
      "source": [
        "# Cheatsheet for API, JSON, and Pandas DataFrames"
      ],
      "metadata": {
        "id": "0B8FxqGH2h94"
      }
    },
    {
      "cell_type": "code",
      "execution_count": 1,
      "metadata": {
        "id": "6mIHzMHM2UUb"
      },
      "outputs": [],
      "source": [
        "import requests\n",
        "import pandas as pd"
      ]
    },
    {
      "cell_type": "code",
      "source": [
        "api_url = 'https://api.genderize.io'\n",
        "name = 'motoko'\n",
        "url = api_url + '?name=' + name"
      ],
      "metadata": {
        "id": "rYL6IxUY2a-O"
      },
      "execution_count": 2,
      "outputs": []
    },
    {
      "cell_type": "code",
      "source": [
        "response = requests.get(url)"
      ],
      "metadata": {
        "id": "Z8mwaJ2E5rnP"
      },
      "execution_count": 3,
      "outputs": []
    },
    {
      "cell_type": "markdown",
      "source": [
        "## Status Code"
      ],
      "metadata": {
        "id": "EcaH7SjH5D8t"
      }
    },
    {
      "cell_type": "code",
      "source": [
        "response.status_code"
      ],
      "metadata": {
        "colab": {
          "base_uri": "https://localhost:8080/"
        },
        "id": "5twOuEIQ4pQF",
        "outputId": "f989fde0-3f6d-401a-bfea-2501e49821aa"
      },
      "execution_count": 4,
      "outputs": [
        {
          "output_type": "execute_result",
          "data": {
            "text/plain": [
              "200"
            ]
          },
          "metadata": {},
          "execution_count": 4
        }
      ]
    },
    {
      "cell_type": "markdown",
      "source": [
        "## Json"
      ],
      "metadata": {
        "id": "nFs9GWf-5JkG"
      }
    },
    {
      "cell_type": "markdown",
      "source": [
        "The output of response is a dict():"
      ],
      "metadata": {
        "id": "oCd6J05b7UvK"
      }
    },
    {
      "cell_type": "code",
      "source": [
        "response.json()"
      ],
      "metadata": {
        "colab": {
          "base_uri": "https://localhost:8080/"
        },
        "id": "QPtyNjAe5HBD",
        "outputId": "e434771a-daff-4d6f-ee71-df4a42bba530"
      },
      "execution_count": 5,
      "outputs": [
        {
          "output_type": "execute_result",
          "data": {
            "text/plain": [
              "{'name': 'motoko', 'gender': 'female', 'probability': 0.9, 'count': 122}"
            ]
          },
          "metadata": {},
          "execution_count": 5
        }
      ]
    },
    {
      "cell_type": "code",
      "source": [
        "# Get the response of one item, treating it as a dict():\n",
        "response.json()['gender']"
      ],
      "metadata": {
        "colab": {
          "base_uri": "https://localhost:8080/",
          "height": 35
        },
        "id": "LJhqhRy65N0Q",
        "outputId": "ef42ceaf-a0ac-48bb-dc0c-8672180920e3"
      },
      "execution_count": 6,
      "outputs": [
        {
          "output_type": "execute_result",
          "data": {
            "text/plain": [
              "'female'"
            ],
            "application/vnd.google.colaboratory.intrinsic+json": {
              "type": "string"
            }
          },
          "metadata": {},
          "execution_count": 6
        }
      ]
    },
    {
      "cell_type": "code",
      "source": [
        "# Iterate thru, treating it as a dict():\n",
        "for k, v in response.json().items():\n",
        "    print(k, v)"
      ],
      "metadata": {
        "colab": {
          "base_uri": "https://localhost:8080/"
        },
        "id": "sDfSwwoO5VwU",
        "outputId": "e67cdbf9-36b6-478e-8a87-950f97fb7455"
      },
      "execution_count": 7,
      "outputs": [
        {
          "output_type": "stream",
          "name": "stdout",
          "text": [
            "name motoko\n",
            "gender female\n",
            "probability 0.9\n",
            "count 122\n"
          ]
        }
      ]
    },
    {
      "cell_type": "code",
      "source": [
        ""
      ],
      "metadata": {
        "id": "I1j-w6vV7o6K"
      },
      "execution_count": 7,
      "outputs": []
    }
  ]
}