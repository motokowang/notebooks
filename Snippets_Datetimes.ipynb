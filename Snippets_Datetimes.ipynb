{
  "nbformat": 4,
  "nbformat_minor": 0,
  "metadata": {
    "colab": {
      "name": "Snippets: Datetimes.ipynb",
      "provenance": [],
      "collapsed_sections": [],
      "authorship_tag": "ABX9TyOWQM5WaErFWFFOT5LgfYoR",
      "include_colab_link": true
    },
    "kernelspec": {
      "name": "python3",
      "display_name": "Python 3"
    },
    "language_info": {
      "name": "python"
    }
  },
  "cells": [
    {
      "cell_type": "markdown",
      "metadata": {
        "id": "view-in-github",
        "colab_type": "text"
      },
      "source": [
        "<a href=\"https://colab.research.google.com/github/motokowang/notebooks/blob/main/Snippets_Datetimes.ipynb\" target=\"_parent\"><img src=\"https://colab.research.google.com/assets/colab-badge.svg\" alt=\"Open In Colab\"/></a>"
      ]
    },
    {
      "cell_type": "markdown",
      "source": [
        "# Datetime Cheat Sheet for Pandas, Numpy, and Python Datetime"
      ],
      "metadata": {
        "id": "KM0GyQTyD_Lk"
      }
    },
    {
      "cell_type": "markdown",
      "source": [
        "**Author:**\n",
        "\n",
        "> Motoko Wang\n",
        "\n",
        "**Contact:**\n",
        "\n",
        "> https://www.linkedin.com/in/motoko-wang/\n",
        "\n",
        "**Revision:**\n",
        "> 2022.7.20"
      ],
      "metadata": {
        "id": "oNr-nfbcE9l-"
      }
    },
    {
      "cell_type": "markdown",
      "source": [
        "## Pandas Datetime"
      ],
      "metadata": {
        "id": "EsAy-uftjYn1"
      }
    },
    {
      "cell_type": "markdown",
      "source": [
        "Considered ideal\n",
        "\n",
        "***Format: np.timestamp64, implemented as pandas.datetime***"
      ],
      "metadata": {
        "id": "I2ZtPeHWBBiW"
      }
    },
    {
      "cell_type": "markdown",
      "source": [
        "### Datetime by setting parametres indivudally:"
      ],
      "metadata": {
        "id": "mrcTOVAf29gc"
      }
    },
    {
      "cell_type": "code",
      "source": [
        "import pandas as pd\n",
        "\n",
        "pandas_date = pd.to_datetime('2022-07-20', \n",
        "                             yearfirst=True,\n",
        "                             infer_datetime_format=True)\n",
        "\n",
        "print('type', type(pandas_date),\n",
        "      '\\nvalue', pandas_date)"
      ],
      "metadata": {
        "colab": {
          "base_uri": "https://localhost:8080/"
        },
        "id": "YRTDdyySfhzh",
        "outputId": "b98ef1c3-6cb1-4dd2-f7e3-a8aea9ab2584"
      },
      "execution_count": null,
      "outputs": [
        {
          "output_type": "stream",
          "name": "stdout",
          "text": [
            "type <class 'pandas._libs.tslibs.timestamps.Timestamp'> \n",
            "value 2022-07-20 00:00:00\n"
          ]
        }
      ]
    },
    {
      "cell_type": "markdown",
      "source": [
        "### Datetime by parsing a string:"
      ],
      "metadata": {
        "id": "gQCY4hVj2_2C"
      }
    },
    {
      "cell_type": "code",
      "source": [
        "pandas_date += pd.Timedelta(value=2, unit='D')\n",
        "\n",
        "print('type', type(pandas_date),\n",
        "      '\\nvalue', pandas_date)"
      ],
      "metadata": {
        "colab": {
          "base_uri": "https://localhost:8080/"
        },
        "id": "MhGrEfS70SI9",
        "outputId": "4ffb2448-ec6d-4b62-e70e-4c46b7416790"
      },
      "execution_count": null,
      "outputs": [
        {
          "output_type": "stream",
          "name": "stdout",
          "text": [
            "type <class 'pandas._libs.tslibs.timestamps.Timestamp'> \n",
            "value 2022-07-22 00:00:00\n"
          ]
        }
      ]
    },
    {
      "cell_type": "code",
      "source": [
        "print('year', pandas_date.year,                     # year\n",
        "      '\\nmonth', pandas_date.year,                  # month\n",
        "      '\\nday', pandas_date.day,                     # day\n",
        "      '\\nday of week', pandas_date.isoweekday(),    # iso day of week (1-sun thru 7-sat)\n",
        "      '\\nis weekday', pandas_date.weekday(),        # day of week (0-sun thru 6-sat)\n",
        "      '\\nmonth name', pandas_date.month_name(),     # month (name)\n",
        "      '\\nweek of year', pandas_date.weekofyear)     # week of year"
      ],
      "metadata": {
        "colab": {
          "base_uri": "https://localhost:8080/"
        },
        "id": "NAAKScd99nex",
        "outputId": "080d0e2a-16d8-45e5-c512-ac1805bb59da"
      },
      "execution_count": null,
      "outputs": [
        {
          "output_type": "stream",
          "name": "stdout",
          "text": [
            "year 2022 \n",
            "month 2022 \n",
            "day 22 \n",
            "day of week 5 \n",
            "is weekday 4 \n",
            "month name July \n",
            "week of year 29\n"
          ]
        }
      ]
    },
    {
      "cell_type": "markdown",
      "source": [
        "### Convert to other formats:"
      ],
      "metadata": {
        "id": "hYeqvnns-YFs"
      }
    },
    {
      "cell_type": "code",
      "source": [
        "print('to numpy', pandas_date.to_numpy())           # to numpy\n",
        "print('to datetime64', pandas_date.to_datetime64()) # to datetime64\n",
        "print('to pydatetime', pandas_date.to_pydatetime()) # to pydatetime\n",
        "print('to epoch', pandas_date.timestamp())          # to epoch time / posix time"
      ],
      "metadata": {
        "colab": {
          "base_uri": "https://localhost:8080/"
        },
        "id": "qN-zzpUD-XWC",
        "outputId": "6a7db939-2edc-4c1c-aac6-01d9d3eb5ea9"
      },
      "execution_count": null,
      "outputs": [
        {
          "output_type": "stream",
          "name": "stdout",
          "text": [
            "to numpy 2022-07-22T00:00:00.000000000\n",
            "to datetime64 2022-07-22T00:00:00.000000000\n",
            "to pydatetime 2022-07-22 00:00:00\n",
            "to epoch 1658448000.0\n"
          ]
        }
      ]
    },
    {
      "cell_type": "markdown",
      "source": [
        "## Numpy Datetime"
      ],
      "metadata": {
        "id": "DND_YdOjzdpI"
      }
    },
    {
      "cell_type": "markdown",
      "source": [
        "***Format: datetime64***"
      ],
      "metadata": {
        "id": "qer8j3GnAsYs"
      }
    },
    {
      "cell_type": "markdown",
      "source": [
        "### Datetime by parsing a string:"
      ],
      "metadata": {
        "id": "1p2zJnCG4sdT"
      }
    },
    {
      "cell_type": "code",
      "source": [
        "import numpy as np\n",
        "\n",
        "numpy_date = np.datetime64('2022-07-22')\n",
        "\n",
        "print('type', type(numpy_date),\n",
        "      '\\nvalue', numpy_date)"
      ],
      "metadata": {
        "colab": {
          "base_uri": "https://localhost:8080/"
        },
        "id": "kPbqnVBDzfT2",
        "outputId": "34517fd0-ddc6-4409-c0a3-971d3b2fb20e"
      },
      "execution_count": null,
      "outputs": [
        {
          "output_type": "stream",
          "name": "stdout",
          "text": [
            "type <class 'numpy.datetime64'> \n",
            "value 2022-07-22\n"
          ]
        }
      ]
    },
    {
      "cell_type": "markdown",
      "source": [
        "### Incrementing datetime:"
      ],
      "metadata": {
        "id": "VrWozeii4rvm"
      }
    },
    {
      "cell_type": "code",
      "source": [
        "numpy_date += np.timedelta64(2, 'D')\n",
        "\n",
        "print('type', type(numpy_date),\n",
        "      '\\nvalue', numpy_date)"
      ],
      "metadata": {
        "colab": {
          "base_uri": "https://localhost:8080/"
        },
        "id": "vzWzVxaPzoe4",
        "outputId": "cb5a0afc-33ec-443f-d225-5ba8c1cbcb46"
      },
      "execution_count": null,
      "outputs": [
        {
          "output_type": "stream",
          "name": "stdout",
          "text": [
            "type <class 'numpy.datetime64'> \n",
            "value 2022-07-24\n"
          ]
        }
      ]
    },
    {
      "cell_type": "markdown",
      "source": [
        "### What day of the week is it?"
      ],
      "metadata": {
        "id": "ztV7rlm173PT"
      }
    },
    {
      "cell_type": "code",
      "source": [
        "np.is_busday(numpy_date)"
      ],
      "metadata": {
        "colab": {
          "base_uri": "https://localhost:8080/"
        },
        "id": "sBfQwUoh3Kaf",
        "outputId": "3ab4c33d-7f00-4de7-a3ed-1517a0d44bf8"
      },
      "execution_count": null,
      "outputs": [
        {
          "output_type": "execute_result",
          "data": {
            "text/plain": [
              "False"
            ]
          },
          "metadata": {},
          "execution_count": 13
        }
      ]
    },
    {
      "cell_type": "markdown",
      "source": [
        "### Convert to other formats:"
      ],
      "metadata": {
        "id": "hthfM20qDsZH"
      }
    },
    {
      "cell_type": "code",
      "source": [
        "print(numpy_date.astype('uint64'))                  # to epoch time / posix time "
      ],
      "metadata": {
        "colab": {
          "base_uri": "https://localhost:8080/"
        },
        "id": "AtFnh1GGDJF5",
        "outputId": "3ef30818-c888-44da-b5df-3ac0ff4968d2"
      },
      "execution_count": null,
      "outputs": [
        {
          "output_type": "stream",
          "name": "stdout",
          "text": [
            "19197\n"
          ]
        }
      ]
    },
    {
      "cell_type": "code",
      "source": [
        ""
      ],
      "metadata": {
        "id": "HhL6q73JDPBH"
      },
      "execution_count": null,
      "outputs": []
    },
    {
      "cell_type": "markdown",
      "source": [
        "## pyDatetime Datetime\n",
        "\n",
        "***Not popular in data science. Avoid.***"
      ],
      "metadata": {
        "id": "N7F-S7bgjcgf"
      }
    },
    {
      "cell_type": "markdown",
      "source": [
        "### Datetime by setting parametres indivudally:"
      ],
      "metadata": {
        "id": "f4RdS5aA2e7Q"
      }
    },
    {
      "cell_type": "code",
      "source": [
        "from datetime import datetime\n",
        "\n",
        "datetime_date = datetime(year=2022, month=7, day=22)\n",
        "\n",
        "print('type', type(datetime_date),\n",
        "      '\\nvalue', datetime_date)"
      ],
      "metadata": {
        "colab": {
          "base_uri": "https://localhost:8080/"
        },
        "id": "hH0Wquk_gdpD",
        "outputId": "6bb9ab13-88a9-4264-d928-5f31411efa63"
      },
      "execution_count": null,
      "outputs": [
        {
          "output_type": "stream",
          "name": "stdout",
          "text": [
            "type <class 'datetime.datetime'> \n",
            "value 2022-07-22 00:00:00\n"
          ]
        }
      ]
    },
    {
      "cell_type": "markdown",
      "source": [
        "### Datetime by parsing a string:"
      ],
      "metadata": {
        "id": "PFCu7LW52lS5"
      }
    },
    {
      "cell_type": "code",
      "source": [
        "datetime_date = datetime.strptime('2022/7/22', '%Y/%m/%d')\n",
        "\n",
        "print('type', type(datetime_date),\n",
        "      '\\nvalue', datetime_date)"
      ],
      "metadata": {
        "colab": {
          "base_uri": "https://localhost:8080/"
        },
        "id": "URziQhl002P_",
        "outputId": "02e9f4a7-01cf-4ee5-e8dd-33e5aa4dccff"
      },
      "execution_count": null,
      "outputs": [
        {
          "output_type": "stream",
          "name": "stdout",
          "text": [
            "type <class 'datetime.datetime'> \n",
            "value 2022-07-22 00:00:00\n"
          ]
        }
      ]
    },
    {
      "cell_type": "markdown",
      "source": [
        "### Incrementing datetime:"
      ],
      "metadata": {
        "id": "e3OOZHqA2ng0"
      }
    },
    {
      "cell_type": "code",
      "source": [
        "datetime_date += dt.timedelta(days=2)\n",
        "\n",
        "print('type', type(datetime_date),\n",
        "      '\\nvalue', datetime_date)"
      ],
      "metadata": {
        "colab": {
          "base_uri": "https://localhost:8080/"
        },
        "id": "kXEsh5dv2JNC",
        "outputId": "11b7886d-b401-477a-be11-31c1b47022db"
      },
      "execution_count": null,
      "outputs": [
        {
          "output_type": "stream",
          "name": "stdout",
          "text": [
            "type <class 'datetime.datetime'> \n",
            "value 2022-07-26 00:00:00\n"
          ]
        }
      ]
    },
    {
      "cell_type": "code",
      "source": [
        "print('year', datetime_date.year,                     # year\n",
        "      '\\nmonth', datetime_date.year,                  # month\n",
        "      '\\nday', datetime_date.day,                     # day\n",
        "      '\\nday of week', datetime_date.isoweekday(),    # iso day of week (1-sun thru 7-sat)\n",
        "      '\\nis weekday', datetime_date.weekday())        # day of week (0-sun thru 6-sat)"
      ],
      "metadata": {
        "colab": {
          "base_uri": "https://localhost:8080/"
        },
        "id": "FUDNKNrz8IQD",
        "outputId": "3172c951-b283-43bf-97b6-cd2db723d60a"
      },
      "execution_count": null,
      "outputs": [
        {
          "output_type": "stream",
          "name": "stdout",
          "text": [
            "year 2022 \n",
            "month 2022 \n",
            "day 26 \n",
            "day of week 2 \n",
            "is weekday 1\n"
          ]
        }
      ]
    }
  ]
}